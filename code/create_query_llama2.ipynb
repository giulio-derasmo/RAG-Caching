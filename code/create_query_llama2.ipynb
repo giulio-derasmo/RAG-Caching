{
 "cells": [
  {
   "cell_type": "code",
   "execution_count": 98,
   "id": "408f6032-23bf-4bd6-b34e-c36f163f8c33",
   "metadata": {},
   "outputs": [],
   "source": [
    "from langchain_community.llms import Ollama  # llm\n",
    "llm = Ollama(model=\"llama2:13b-chat\")"
   ]
  },
  {
   "cell_type": "code",
   "execution_count": 217,
   "id": "872b6d41-b0dc-4ffa-a81d-556796ae05bf",
   "metadata": {},
   "outputs": [],
   "source": [
    "from langchain_core.prompts import ChatPromptTemplate\n",
    "\n",
    "template = \"\"\"\n",
    "<<SYS>>\n",
    "You are a helpful, respectful and honest assistant. Alwasy answer without explanation. You are given a context. Read all the context then respond to the user query. \n",
    "<</SYS>>\n",
    "\n",
    "<context>\n",
    "{context}\n",
    "</context>\n",
    "\n",
    "[INST]\n",
    "User: Write 5 questions about the context and provide the answers. Each questions must be of maximum 30 token, also the answer. \n",
    "Always create the question thinking the context is in a database of various texts and the question must be recognizable fitting the provided context.\n",
    "Always write Q for question and A for answers. Always write in one line.\n",
    "[/INST]\n",
    "\"\"\"\n",
    "\n",
    "    \n",
    "\n",
    "prompt = ChatPromptTemplate.from_template(template)\n",
    "chain = prompt | llm"
   ]
  },
  {
   "cell_type": "code",
   "execution_count": 218,
   "id": "91269f0e-d930-4e38-aee1-ec24d49588fe",
   "metadata": {},
   "outputs": [],
   "source": [
    "doc = [\"\"\"Napoleon Bonaparte (born Napoleone di Buonaparte;[1][b] 15 August 1769 – 5 May 1821), later known by his regnal name Napoleon I, was a French emperor and military commander who rose to prominence during the French Revolution and led successful campaigns during the Revolutionary Wars. \n",
    "        He was the leader of the French Republic as First Consul from 1799 to 1804, then of the French Empire as Emperor of the French from 1804 until 1814, and briefly again in 1815. \n",
    "        His political and cultural legacy endures as a celebrated and controversial leader. \n",
    "        He initiated many enduring reforms, but has been criticized for his authoritarian rule. \n",
    "        He is considered one of the greatest military commanders in history and his wars and campaigns are still studied at military schools worldwide. \n",
    "        However, historians still debate the degree to which he was responsible for the Napoleonic Wars, in which between three and six million people died.\"\"\"]"
   ]
  },
  {
   "cell_type": "code",
   "execution_count": 219,
   "id": "8a00e3c0-23e0-4355-a9e9-4509535f8de8",
   "metadata": {},
   "outputs": [],
   "source": [
    "answer = chain.invoke({\"context\": doc[0]})"
   ]
  },
  {
   "cell_type": "code",
   "execution_count": 223,
   "id": "5f51dff6-13c6-4999-8ade-01428f376fcd",
   "metadata": {},
   "outputs": [
    {
     "data": {
      "text/plain": [
       "\"\\nQ: When was Napoleon Bonaparte born?\\nA: Napoleone di Buonaparte; 15 August 1769\\n\\nQ: What was Napoleon's role during the French Revolution?\\nA: First Consul from 1799 to 1804\\n\\nQ: What was Napoleon's regnal name?\\nA: Emperor of the French\\n\\nQ: How many people died in the Napoleonic Wars?\\nA: between three and six million people died.\\n\\nQ: Is Napoleon considered a controversial leader?\\nA: Yes, he is celebrated but criticized for his authoritarian rule.\""
      ]
     },
     "execution_count": 223,
     "metadata": {},
     "output_type": "execute_result"
    }
   ],
   "source": [
    "answer"
   ]
  },
  {
   "cell_type": "code",
   "execution_count": 224,
   "id": "e6718e8b-c366-45af-8f00-7a31ea7b653c",
   "metadata": {},
   "outputs": [],
   "source": [
    "import re\n",
    "\n",
    "def extract_QA(answer):\n",
    "    regex = r\"Q: (.+?)\\\\nA: (.+?)\\\\n\\\\n\"\n",
    "    test_str = (answer+\"\\n\\n\").replace('\\n', '\\\\n')\n",
    "\n",
    "    matches = re.finditer(regex, test_str)\n",
    "\n",
    "    qa = []\n",
    "    for matchNum, match in enumerate(matches, start=1):\n",
    "        tmp = []\n",
    "        for groupNum in range(0, len(match.groups())):\n",
    "            groupNum = groupNum + 1\n",
    "            group = match.group(groupNum)\n",
    "            tmp.append(re.sub(r'\\([^)]*\\)', '', group))\n",
    "        qa.append(tuple(tmp))\n",
    "    return qa"
   ]
  },
  {
   "cell_type": "code",
   "execution_count": 225,
   "id": "12c9296b-612f-403f-98d1-0af91ed2b7ca",
   "metadata": {},
   "outputs": [
    {
     "data": {
      "text/plain": [
       "[('When was Napoleon Bonaparte born?',\n",
       "  'Napoleone di Buonaparte; 15 August 1769'),\n",
       " (\"What was Napoleon's role during the French Revolution?\",\n",
       "  'First Consul from 1799 to 1804'),\n",
       " (\"What was Napoleon's regnal name?\", 'Emperor of the French'),\n",
       " ('How many people died in the Napoleonic Wars?',\n",
       "  'between three and six million people died.'),\n",
       " ('Is Napoleon considered a controversial leader?',\n",
       "  'Yes, he is celebrated but criticized for his authoritarian rule.')]"
      ]
     },
     "execution_count": 225,
     "metadata": {},
     "output_type": "execute_result"
    }
   ],
   "source": [
    "extract_QA(answer)"
   ]
  },
  {
   "cell_type": "markdown",
   "id": "cf697ed0-c2a8-453f-b147-29a35245b387",
   "metadata": {},
   "source": [
    "## squad"
   ]
  },
  {
   "cell_type": "code",
   "execution_count": 61,
   "id": "72641ed3-10ab-4459-952b-9d3de657e9ee",
   "metadata": {},
   "outputs": [
    {
     "data": {
      "application/vnd.jupyter.widget-view+json": {
       "model_id": "0269ed59a2e4480497493e06c8cc17d1",
       "version_major": 2,
       "version_minor": 0
      },
      "text/plain": [
       "Downloading readme:   0%|          | 0.00/7.83k [00:00<?, ?B/s]"
      ]
     },
     "metadata": {},
     "output_type": "display_data"
    },
    {
     "data": {
      "application/vnd.jupyter.widget-view+json": {
       "model_id": "e19935a10c164611a8f5663b6a457a60",
       "version_major": 2,
       "version_minor": 0
      },
      "text/plain": [
       "Downloading data:   0%|          | 0.00/14.5M [00:00<?, ?B/s]"
      ]
     },
     "metadata": {},
     "output_type": "display_data"
    },
    {
     "data": {
      "application/vnd.jupyter.widget-view+json": {
       "model_id": "38ee2802533a4619a8331c3812b6a232",
       "version_major": 2,
       "version_minor": 0
      },
      "text/plain": [
       "Downloading data:   0%|          | 0.00/1.82M [00:00<?, ?B/s]"
      ]
     },
     "metadata": {},
     "output_type": "display_data"
    },
    {
     "data": {
      "application/vnd.jupyter.widget-view+json": {
       "model_id": "168930592a9d433dbeb72a2d9394e1ed",
       "version_major": 2,
       "version_minor": 0
      },
      "text/plain": [
       "Generating train split:   0%|          | 0/87599 [00:00<?, ? examples/s]"
      ]
     },
     "metadata": {},
     "output_type": "display_data"
    },
    {
     "data": {
      "application/vnd.jupyter.widget-view+json": {
       "model_id": "80b0b1f569ba4a63907d87134120008f",
       "version_major": 2,
       "version_minor": 0
      },
      "text/plain": [
       "Generating validation split:   0%|          | 0/10570 [00:00<?, ? examples/s]"
      ]
     },
     "metadata": {},
     "output_type": "display_data"
    }
   ],
   "source": [
    "from datasets import load_dataset\n",
    "train_ds = load_dataset(\"squad\", split=\"train\")"
   ]
  },
  {
   "cell_type": "code",
   "execution_count": 62,
   "id": "1da08c0b-c51e-4f62-b1a9-cb91cc72ffc0",
   "metadata": {},
   "outputs": [
    {
     "data": {
      "text/plain": [
       "Dataset({\n",
       "    features: ['id', 'title', 'context', 'question', 'answers'],\n",
       "    num_rows: 87599\n",
       "})"
      ]
     },
     "execution_count": 62,
     "metadata": {},
     "output_type": "execute_result"
    }
   ],
   "source": [
    "train_ds"
   ]
  },
  {
   "cell_type": "markdown",
   "id": "f18fd998-fa34-4649-bf93-971d33eebe30",
   "metadata": {},
   "source": [
    "Up to 5 question for passage"
   ]
  },
  {
   "cell_type": "code",
   "execution_count": 243,
   "id": "3f9392c1-7450-447b-8a45-e51f6b5788d5",
   "metadata": {
    "scrolled": true
   },
   "outputs": [
    {
     "data": {
      "text/plain": [
       "{'id': ['5733be284776f41900661182',\n",
       "  '5733be284776f4190066117f',\n",
       "  '5733be284776f41900661180',\n",
       "  '5733be284776f41900661181',\n",
       "  '5733be284776f4190066117e',\n",
       "  '5733bf84d058e614000b61be',\n",
       "  '5733bf84d058e614000b61bf',\n",
       "  '5733bf84d058e614000b61c0',\n",
       "  '5733bf84d058e614000b61bd',\n",
       "  '5733bf84d058e614000b61c1'],\n",
       " 'title': ['University_of_Notre_Dame',\n",
       "  'University_of_Notre_Dame',\n",
       "  'University_of_Notre_Dame',\n",
       "  'University_of_Notre_Dame',\n",
       "  'University_of_Notre_Dame',\n",
       "  'University_of_Notre_Dame',\n",
       "  'University_of_Notre_Dame',\n",
       "  'University_of_Notre_Dame',\n",
       "  'University_of_Notre_Dame',\n",
       "  'University_of_Notre_Dame'],\n",
       " 'context': ['Architecturally, the school has a Catholic character. Atop the Main Building\\'s gold dome is a golden statue of the Virgin Mary. Immediately in front of the Main Building and facing it, is a copper statue of Christ with arms upraised with the legend \"Venite Ad Me Omnes\". Next to the Main Building is the Basilica of the Sacred Heart. Immediately behind the basilica is the Grotto, a Marian place of prayer and reflection. It is a replica of the grotto at Lourdes, France where the Virgin Mary reputedly appeared to Saint Bernadette Soubirous in 1858. At the end of the main drive (and in a direct line that connects through 3 statues and the Gold Dome), is a simple, modern stone statue of Mary.',\n",
       "  'Architecturally, the school has a Catholic character. Atop the Main Building\\'s gold dome is a golden statue of the Virgin Mary. Immediately in front of the Main Building and facing it, is a copper statue of Christ with arms upraised with the legend \"Venite Ad Me Omnes\". Next to the Main Building is the Basilica of the Sacred Heart. Immediately behind the basilica is the Grotto, a Marian place of prayer and reflection. It is a replica of the grotto at Lourdes, France where the Virgin Mary reputedly appeared to Saint Bernadette Soubirous in 1858. At the end of the main drive (and in a direct line that connects through 3 statues and the Gold Dome), is a simple, modern stone statue of Mary.',\n",
       "  'Architecturally, the school has a Catholic character. Atop the Main Building\\'s gold dome is a golden statue of the Virgin Mary. Immediately in front of the Main Building and facing it, is a copper statue of Christ with arms upraised with the legend \"Venite Ad Me Omnes\". Next to the Main Building is the Basilica of the Sacred Heart. Immediately behind the basilica is the Grotto, a Marian place of prayer and reflection. It is a replica of the grotto at Lourdes, France where the Virgin Mary reputedly appeared to Saint Bernadette Soubirous in 1858. At the end of the main drive (and in a direct line that connects through 3 statues and the Gold Dome), is a simple, modern stone statue of Mary.',\n",
       "  'Architecturally, the school has a Catholic character. Atop the Main Building\\'s gold dome is a golden statue of the Virgin Mary. Immediately in front of the Main Building and facing it, is a copper statue of Christ with arms upraised with the legend \"Venite Ad Me Omnes\". Next to the Main Building is the Basilica of the Sacred Heart. Immediately behind the basilica is the Grotto, a Marian place of prayer and reflection. It is a replica of the grotto at Lourdes, France where the Virgin Mary reputedly appeared to Saint Bernadette Soubirous in 1858. At the end of the main drive (and in a direct line that connects through 3 statues and the Gold Dome), is a simple, modern stone statue of Mary.',\n",
       "  'Architecturally, the school has a Catholic character. Atop the Main Building\\'s gold dome is a golden statue of the Virgin Mary. Immediately in front of the Main Building and facing it, is a copper statue of Christ with arms upraised with the legend \"Venite Ad Me Omnes\". Next to the Main Building is the Basilica of the Sacred Heart. Immediately behind the basilica is the Grotto, a Marian place of prayer and reflection. It is a replica of the grotto at Lourdes, France where the Virgin Mary reputedly appeared to Saint Bernadette Soubirous in 1858. At the end of the main drive (and in a direct line that connects through 3 statues and the Gold Dome), is a simple, modern stone statue of Mary.',\n",
       "  \"As at most other universities, Notre Dame's students run a number of news media outlets. The nine student-run outlets include three newspapers, both a radio and television station, and several magazines and journals. Begun as a one-page journal in September 1876, the Scholastic magazine is issued twice monthly and claims to be the oldest continuous collegiate publication in the United States. The other magazine, The Juggler, is released twice a year and focuses on student literature and artwork. The Dome yearbook is published annually. The newspapers have varying publication interests, with The Observer published daily and mainly reporting university and other news, and staffed by students from both Notre Dame and Saint Mary's College. Unlike Scholastic and The Dome, The Observer is an independent publication and does not have a faculty advisor or any editorial oversight from the University. In 1987, when some students believed that The Observer began to show a conservative bias, a liberal newspaper, Common Sense was published. Likewise, in 2003, when other students believed that the paper showed a liberal bias, the conservative paper Irish Rover went into production. Neither paper is published as often as The Observer; however, all three are distributed to all students. Finally, in Spring 2008 an undergraduate journal for political science research, Beyond Politics, made its debut.\",\n",
       "  \"As at most other universities, Notre Dame's students run a number of news media outlets. The nine student-run outlets include three newspapers, both a radio and television station, and several magazines and journals. Begun as a one-page journal in September 1876, the Scholastic magazine is issued twice monthly and claims to be the oldest continuous collegiate publication in the United States. The other magazine, The Juggler, is released twice a year and focuses on student literature and artwork. The Dome yearbook is published annually. The newspapers have varying publication interests, with The Observer published daily and mainly reporting university and other news, and staffed by students from both Notre Dame and Saint Mary's College. Unlike Scholastic and The Dome, The Observer is an independent publication and does not have a faculty advisor or any editorial oversight from the University. In 1987, when some students believed that The Observer began to show a conservative bias, a liberal newspaper, Common Sense was published. Likewise, in 2003, when other students believed that the paper showed a liberal bias, the conservative paper Irish Rover went into production. Neither paper is published as often as The Observer; however, all three are distributed to all students. Finally, in Spring 2008 an undergraduate journal for political science research, Beyond Politics, made its debut.\",\n",
       "  \"As at most other universities, Notre Dame's students run a number of news media outlets. The nine student-run outlets include three newspapers, both a radio and television station, and several magazines and journals. Begun as a one-page journal in September 1876, the Scholastic magazine is issued twice monthly and claims to be the oldest continuous collegiate publication in the United States. The other magazine, The Juggler, is released twice a year and focuses on student literature and artwork. The Dome yearbook is published annually. The newspapers have varying publication interests, with The Observer published daily and mainly reporting university and other news, and staffed by students from both Notre Dame and Saint Mary's College. Unlike Scholastic and The Dome, The Observer is an independent publication and does not have a faculty advisor or any editorial oversight from the University. In 1987, when some students believed that The Observer began to show a conservative bias, a liberal newspaper, Common Sense was published. Likewise, in 2003, when other students believed that the paper showed a liberal bias, the conservative paper Irish Rover went into production. Neither paper is published as often as The Observer; however, all three are distributed to all students. Finally, in Spring 2008 an undergraduate journal for political science research, Beyond Politics, made its debut.\",\n",
       "  \"As at most other universities, Notre Dame's students run a number of news media outlets. The nine student-run outlets include three newspapers, both a radio and television station, and several magazines and journals. Begun as a one-page journal in September 1876, the Scholastic magazine is issued twice monthly and claims to be the oldest continuous collegiate publication in the United States. The other magazine, The Juggler, is released twice a year and focuses on student literature and artwork. The Dome yearbook is published annually. The newspapers have varying publication interests, with The Observer published daily and mainly reporting university and other news, and staffed by students from both Notre Dame and Saint Mary's College. Unlike Scholastic and The Dome, The Observer is an independent publication and does not have a faculty advisor or any editorial oversight from the University. In 1987, when some students believed that The Observer began to show a conservative bias, a liberal newspaper, Common Sense was published. Likewise, in 2003, when other students believed that the paper showed a liberal bias, the conservative paper Irish Rover went into production. Neither paper is published as often as The Observer; however, all three are distributed to all students. Finally, in Spring 2008 an undergraduate journal for political science research, Beyond Politics, made its debut.\",\n",
       "  \"As at most other universities, Notre Dame's students run a number of news media outlets. The nine student-run outlets include three newspapers, both a radio and television station, and several magazines and journals. Begun as a one-page journal in September 1876, the Scholastic magazine is issued twice monthly and claims to be the oldest continuous collegiate publication in the United States. The other magazine, The Juggler, is released twice a year and focuses on student literature and artwork. The Dome yearbook is published annually. The newspapers have varying publication interests, with The Observer published daily and mainly reporting university and other news, and staffed by students from both Notre Dame and Saint Mary's College. Unlike Scholastic and The Dome, The Observer is an independent publication and does not have a faculty advisor or any editorial oversight from the University. In 1987, when some students believed that The Observer began to show a conservative bias, a liberal newspaper, Common Sense was published. Likewise, in 2003, when other students believed that the paper showed a liberal bias, the conservative paper Irish Rover went into production. Neither paper is published as often as The Observer; however, all three are distributed to all students. Finally, in Spring 2008 an undergraduate journal for political science research, Beyond Politics, made its debut.\"],\n",
       " 'question': ['To whom did the Virgin Mary allegedly appear in 1858 in Lourdes France?',\n",
       "  'What is in front of the Notre Dame Main Building?',\n",
       "  'The Basilica of the Sacred heart at Notre Dame is beside to which structure?',\n",
       "  'What is the Grotto at Notre Dame?',\n",
       "  'What sits on top of the Main Building at Notre Dame?',\n",
       "  'When did the Scholastic Magazine of Notre dame begin publishing?',\n",
       "  \"How often is Notre Dame's the Juggler published?\",\n",
       "  'What is the daily student paper at Notre Dame called?',\n",
       "  'How many student news papers are found at Notre Dame?',\n",
       "  'In what year did the student paper Common Sense begin publication at Notre Dame?'],\n",
       " 'answers': [{'text': ['Saint Bernadette Soubirous'], 'answer_start': [515]},\n",
       "  {'text': ['a copper statue of Christ'], 'answer_start': [188]},\n",
       "  {'text': ['the Main Building'], 'answer_start': [279]},\n",
       "  {'text': ['a Marian place of prayer and reflection'], 'answer_start': [381]},\n",
       "  {'text': ['a golden statue of the Virgin Mary'], 'answer_start': [92]},\n",
       "  {'text': ['September 1876'], 'answer_start': [248]},\n",
       "  {'text': ['twice'], 'answer_start': [441]},\n",
       "  {'text': ['The Observer'], 'answer_start': [598]},\n",
       "  {'text': ['three'], 'answer_start': [126]},\n",
       "  {'text': ['1987'], 'answer_start': [908]}]}"
      ]
     },
     "execution_count": 243,
     "metadata": {},
     "output_type": "execute_result"
    }
   ],
   "source": [
    "train_ds[:10]"
   ]
  },
  {
   "cell_type": "code",
   "execution_count": 237,
   "id": "31556433-42a4-4583-bf7b-f57476735ac9",
   "metadata": {},
   "outputs": [],
   "source": [
    "template = \"\"\"\n",
    "<<SYS>>\n",
    "You are a helpful, respectful and honest dataset annotator. Alwasy answer without explanation. You are given a context. \n",
    "<</SYS>>\n",
    "\n",
    "<context>\n",
    "{context}\n",
    "</context>\n",
    "\n",
    "[INST]\n",
    "User: Write 5 questions about the context and provide the answers. Each questions and answer must be of maximum 30 token.\n",
    "Always create the question as you have other passages of different topic in a database, for example avoid generic subject.\n",
    "Always write Q for question and A for answers. Always write in one line.\n",
    "[/INST]\n",
    "\"\"\"\n",
    "\n",
    "prompt = ChatPromptTemplate.from_template(template)\n",
    "chain = prompt | llm"
   ]
  },
  {
   "cell_type": "code",
   "execution_count": 238,
   "id": "e2d73014-2caa-4c0f-8d77-46ca91a24e62",
   "metadata": {},
   "outputs": [
    {
     "data": {
      "text/plain": [
       "[('Which university is known for its Catholic character and has a golden statue of the Virgin Mary on top of its Main Building?',\n",
       "  'The University of Notre Dame.'),\n",
       " ('What is the name of the basilica located next to the Main Building of the University of Notre Dame?',\n",
       "  'The Basilica of the Sacred Heart.'),\n",
       " ('What is the replica of the grotto at Lourdes, France, located behind the Basilica of the Sacred Heart?',\n",
       "  'The Grotto.'),\n",
       " ('In which direction does the simple, modern stone statue of Mary face?',\n",
       "  'The main drive.'),\n",
       " ('What is the legend inscribed on the statue of Christ with arms upraised in front of the Main Building?',\n",
       "  '\"Venite Ad Me Omnes\" .')]"
      ]
     },
     "execution_count": 238,
     "metadata": {},
     "output_type": "execute_result"
    }
   ],
   "source": [
    "sample = train_ds[1]\n",
    "answer = chain.invoke({\"context\": 'This passage is about: ' + sample['title'] + '.' + sample['context']})\n",
    "extract_QA(answer)"
   ]
  },
  {
   "cell_type": "code",
   "execution_count": null,
   "id": "d9fe76d5-62a4-4de2-bc0a-61dc0d35826a",
   "metadata": {},
   "outputs": [],
   "source": [
    "new_qa = []\n",
    "\n",
    "for sample in tqdm(train_ds):\n",
    "    context = 'passage about: ' + sample['title'] + '.' + sample['context']\n",
    "    chain.invoke({\"context\": train_ds[0]['title'] + '\\t' + train_ds[0]['context']})"
   ]
  },
  {
   "cell_type": "markdown",
   "id": "b3afbdb3-5d6b-4c66-8be2-d3c60b5c1261",
   "metadata": {},
   "source": [
    "## Replicate Efficient Prompt Caching via Embedding Similarity\n"
   ]
  },
  {
   "cell_type": "code",
   "execution_count": 334,
   "id": "4f5563b7-78dc-400e-b2be-471377397f43",
   "metadata": {},
   "outputs": [],
   "source": [
    "from tqdm.auto import tqdm"
   ]
  },
  {
   "cell_type": "code",
   "execution_count": null,
   "id": "43fd0a96-9d64-4bb0-8078-27af093d76f8",
   "metadata": {},
   "outputs": [],
   "source": []
  },
  {
   "cell_type": "code",
   "execution_count": null,
   "id": "76bf1c77-a425-41e6-9fd1-3068d9eb1cae",
   "metadata": {},
   "outputs": [],
   "source": []
  },
  {
   "cell_type": "code",
   "execution_count": null,
   "id": "730ae3e8-5d52-429d-b461-4d7edf1a0eb5",
   "metadata": {},
   "outputs": [],
   "source": []
  },
  {
   "cell_type": "code",
   "execution_count": null,
   "id": "b9c5abfa-8a3d-40fe-b559-c255dbd935a3",
   "metadata": {},
   "outputs": [],
   "source": []
  },
  {
   "cell_type": "code",
   "execution_count": null,
   "id": "1e3985b0-8590-41ef-a82d-8c634c351392",
   "metadata": {},
   "outputs": [],
   "source": []
  },
  {
   "cell_type": "code",
   "execution_count": null,
   "id": "4b3cfa60-6519-490e-ace0-08190dd88494",
   "metadata": {},
   "outputs": [],
   "source": []
  },
  {
   "cell_type": "code",
   "execution_count": null,
   "id": "a0e3b864-6c73-445a-9dc6-04fb4730d787",
   "metadata": {},
   "outputs": [],
   "source": []
  }
 ],
 "metadata": {
  "kernelspec": {
   "display_name": "Python 3 (ipykernel)",
   "language": "python",
   "name": "python3"
  },
  "language_info": {
   "codemirror_mode": {
    "name": "ipython",
    "version": 3
   },
   "file_extension": ".py",
   "mimetype": "text/x-python",
   "name": "python",
   "nbconvert_exporter": "python",
   "pygments_lexer": "ipython3",
   "version": "3.9.18"
  }
 },
 "nbformat": 4,
 "nbformat_minor": 5
}
