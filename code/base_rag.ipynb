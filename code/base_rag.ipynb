{
 "cells": [
  {
   "cell_type": "markdown",
   "id": "f2a4d173-5fb2-4be4-809e-78d4d1a4de5e",
   "metadata": {},
   "source": [
    "## Librerie"
   ]
  },
  {
   "cell_type": "code",
   "execution_count": 1,
   "id": "b618e1ea-f26e-4334-ae95-ead0ae8fcc23",
   "metadata": {},
   "outputs": [],
   "source": [
    "from langchain.vectorstores import Chroma    # vectordb\n",
    "from langchain_community.llms import Ollama  # llm\n",
    "from langchain_community.embeddings import HuggingFaceEmbeddings # embedder\n",
    "from langchain.chains.combine_documents import create_stuff_documents_chain # chain \n",
    "from langchain_core.prompts import ChatPromptTemplate\n",
    "from langchain.chains import create_retrieval_chain\n",
    "\n",
    "\n",
    "from langchain.text_splitter import RecursiveCharacterTextSplitter\n",
    "from langchain.document_loaders import TextLoader\n",
    "import pprint"
   ]
  },
  {
   "cell_type": "markdown",
   "id": "6b2b5d0a-1b88-4d95-a271-4c68ea596e19",
   "metadata": {},
   "source": [
    "## Load documents"
   ]
  },
  {
   "cell_type": "code",
   "execution_count": 2,
   "id": "d671c1e3-447f-4293-b9f6-7018e5342293",
   "metadata": {},
   "outputs": [],
   "source": [
    "from datasets import load_dataset\n",
    "rag_dataset = load_dataset(\"neural-bridge/rag-dataset-12000\")"
   ]
  },
  {
   "cell_type": "code",
   "execution_count": 3,
   "id": "1455bee6-6158-40ba-936e-9e8a694287c4",
   "metadata": {},
   "outputs": [],
   "source": [
    "train, test = rag_dataset['train'], rag_dataset['test']"
   ]
  },
  {
   "cell_type": "code",
   "execution_count": 4,
   "id": "7f2db1d5-52df-491f-bc28-29611fc65940",
   "metadata": {
    "scrolled": true
   },
   "outputs": [
    {
     "name": "stdout",
     "output_type": "stream",
     "text": [
      "{'answer': 'The Berry Export Summary 2028 is a dedicated export plan for the '\n",
      "           'Australian strawberry, raspberry, and blackberry industries. It '\n",
      "           'maps the sectors’ current position, where they want to be, '\n",
      "           'high-opportunity markets, and next steps. The purpose of this plan '\n",
      "           'is to grow their global presence over the next 10 years.',\n",
      " 'context': 'Caption: Tasmanian berry grower Nic Hansen showing Macau chef '\n",
      "            'Antimo Merone around his property as part of export engagement '\n",
      "            'activities.\\n'\n",
      "            'THE RISE and rise of the Australian strawberry, raspberry and '\n",
      "            'blackberry industries has seen the sectors redouble their '\n",
      "            'international trade focus, with the release of a dedicated export '\n",
      "            'plan to grow their global presence over the next 10 years.\\n'\n",
      "            'Driven by significant grower input, the Berry Export Summary 2028 '\n",
      "            'maps the sectors’ current position, where they want to be, '\n",
      "            'high-opportunity markets and next steps.\\n'\n",
      "            'Hort Innovation trade manager Jenny Van de Meeberg said the value '\n",
      "            'and volume of raspberry and blackberry exports rose by 100 per '\n",
      "            'cent between 2016 and 2017. She said the Australian strawberry '\n",
      "            'industry experienced similar success with an almost 30 per cent '\n",
      "            'rise in export volume and a 26 per cent rise in value to $32.6M '\n",
      "            'over the same period.\\n'\n",
      "            '“Australian berry sectors are in a firm position at the moment,” '\n",
      "            'she said. “Production, adoption of protected substrate cropping, '\n",
      "            'improved genetics and an expanding geographic footprint have all '\n",
      "            'helped put Aussie berries on a positive trajectory.\\n'\n",
      "            '“We are seeing a real transition point. Broad industry interest '\n",
      "            'and a strong commercial appetite for export market development '\n",
      "            'combined with the potential to capitalise on existing trade '\n",
      "            'agreements and build new trade partnerships has created this '\n",
      "            'perfect environment for growth.”\\n'\n",
      "            'High-income countries across Europe, North America and Northern '\n",
      "            'Asia have been identified as having a palate for Australian grown '\n",
      "            'berries with more than 4244 tonnes of fresh berries exported in '\n",
      "            'the last financial year alone.\\n'\n",
      "            'The strategy identified the best short-term prospect markets for '\n",
      "            'the Australian blackberry and raspberry industry as Hong Kong, '\n",
      "            'Singapore, The United Arab Emirates and Canada. The strongest '\n",
      "            'short-term trade options identified for the strawberry sector '\n",
      "            'were Thailand, Malaysia, New Zealand and Macau.\\n'\n",
      "            'The strategy focuses heavily on growing the existing strawberry '\n",
      "            'export market from 4 per cent to at least 8 per cent of national '\n",
      "            'production by volume, in markets with a capacity and willingness '\n",
      "            'to pay a premium for quality fruit. For raspberries and '\n",
      "            'blackberries, the sectors aim to achieve a 5 per cent boost in '\n",
      "            'exports assessed by volume across identified markets by 2021.\\n'\n",
      "            'Tasmanian raspberry exporter Nic Hansen said Australia offers '\n",
      "            'some of the sweetest and most attractive berries in the world, '\n",
      "            'and this combined with our stringent food safety standards across '\n",
      "            'all stages of the supply chain puts growers in a solid position.\\n'\n",
      "            '“We have a great product, we are hungry to expand trade and now '\n",
      "            'with this new plan in place, we have a clear roadmap towards '\n",
      "            'driving growth,” Mr Hansen said.\\n'\n",
      "            'He said it is exciting to see new export market prospects for '\n",
      "            'raspberries: “The more options we have for export the better. Now '\n",
      "            'we just have to get on with the job of ensuring industry has all '\n",
      "            'the tools it needs, such as supporting data and relationship '\n",
      "            'building opportunities, to thrive in new markets.”\\n'\n",
      "            'This project was commissioned by Hort Innovation, and developed '\n",
      "            'by market analysts and research consultants Auspex Strategic '\n",
      "            'Advisory and AgInfinity. Hort Innovation will work now with berry '\n",
      "            'sectors to determine levy-funded activities to support trade.\\n'\n",
      "            'See a summary of the strategy on the Hort Innovation website.\\n'\n",
      "            'For more information on the berry industries, refer to the '\n",
      "            'Horticulture Statistics Handbook and the Strategic Investment '\n",
      "            'Plans for strawberries, raspberries and blackberries. Growers '\n",
      "            'seeking more information should email trade@horticulture.com.au',\n",
      " 'question': 'What is the Berry Export Summary 2028 and what is its purpose?'}\n"
     ]
    }
   ],
   "source": [
    "pprint.pprint(train[0])"
   ]
  },
  {
   "cell_type": "code",
   "execution_count": 5,
   "id": "af290d0e-8210-4fb4-a5fc-e32216cc1f1a",
   "metadata": {},
   "outputs": [
    {
     "data": {
      "application/vnd.jupyter.widget-view+json": {
       "model_id": "c43fd27f4d7548f1978655e02c3341a7",
       "version_major": 2,
       "version_minor": 0
      },
      "text/plain": [
       "0it [00:00, ?it/s]"
      ]
     },
     "metadata": {},
     "output_type": "display_data"
    },
    {
     "data": {
      "application/vnd.jupyter.widget-view+json": {
       "model_id": "c251042bc2554f38af1a1823b55c4424",
       "version_major": 2,
       "version_minor": 0
      },
      "text/plain": [
       "  0%|          | 0/9600 [00:00<?, ?it/s]"
      ]
     },
     "metadata": {},
     "output_type": "display_data"
    }
   ],
   "source": [
    "from langchain.docstore.document import Document as LangchainDocument\n",
    "from tqdm.notebook import tqdm\n",
    "\n",
    "RAW_KNOWLEDGE_BASE = [\n",
    "    LangchainDocument(page_content=doc[\"context\"], metadata = {'dataset_id': id}) for id, doc in tqdm(enumerate(train)) if doc['question'] != None\n",
    "]\n",
    "\n",
    "QUESTIONS = [doc[\"question\"] for doc in tqdm(train) if doc['question'] != None]"
   ]
  },
  {
   "cell_type": "code",
   "execution_count": 6,
   "id": "a3a96504-1c1b-4f9d-bc2b-3df75d1cfd8e",
   "metadata": {},
   "outputs": [
    {
     "data": {
      "text/plain": [
       "Document(page_content='Caption: Tasmanian berry grower Nic Hansen showing Macau chef Antimo Merone around his property as part of export engagement activities.\\nTHE RISE and rise of the Australian strawberry, raspberry and blackberry industries has seen the sectors redouble their international trade focus, with the release of a dedicated export plan to grow their global presence over the next 10 years.\\nDriven by significant grower input, the Berry Export Summary 2028 maps the sectors’ current position, where they want to be, high-opportunity markets and next steps.\\nHort Innovation trade manager Jenny Van de Meeberg said the value and volume of raspberry and blackberry exports rose by 100 per cent between 2016 and 2017. She said the Australian strawberry industry experienced similar success with an almost 30 per cent rise in export volume and a 26 per cent rise in value to $32.6M over the same period.\\n“Australian berry sectors are in a firm position at the moment,” she said. “Production, adoption of protected substrate cropping, improved genetics and an expanding geographic footprint have all helped put Aussie berries on a positive trajectory.\\n“We are seeing a real transition point. Broad industry interest and a strong commercial appetite for export market development combined with the potential to capitalise on existing trade agreements and build new trade partnerships has created this perfect environment for growth.”\\nHigh-income countries across Europe, North America and Northern Asia have been identified as having a palate for Australian grown berries with more than 4244 tonnes of fresh berries exported in the last financial year alone.\\nThe strategy identified the best short-term prospect markets for the Australian blackberry and raspberry industry as Hong Kong, Singapore, The United Arab Emirates and Canada. The strongest short-term trade options identified for the strawberry sector were Thailand, Malaysia, New Zealand and Macau.\\nThe strategy focuses heavily on growing the existing strawberry export market from 4 per cent to at least 8 per cent of national production by volume, in markets with a capacity and willingness to pay a premium for quality fruit. For raspberries and blackberries, the sectors aim to achieve a 5 per cent boost in exports assessed by volume across identified markets by 2021.\\nTasmanian raspberry exporter Nic Hansen said Australia offers some of the sweetest and most attractive berries in the world, and this combined with our stringent food safety standards across all stages of the supply chain puts growers in a solid position.\\n“We have a great product, we are hungry to expand trade and now with this new plan in place, we have a clear roadmap towards driving growth,” Mr Hansen said.\\nHe said it is exciting to see new export market prospects for raspberries: “The more options we have for export the better. Now we just have to get on with the job of ensuring industry has all the tools it needs, such as supporting data and relationship building opportunities, to thrive in new markets.”\\nThis project was commissioned by Hort Innovation, and developed by market analysts and research consultants Auspex Strategic Advisory and AgInfinity. Hort Innovation will work now with berry sectors to determine levy-funded activities to support trade.\\nSee a summary of the strategy on the Hort Innovation website.\\nFor more information on the berry industries, refer to the Horticulture Statistics Handbook and the Strategic Investment Plans for strawberries, raspberries and blackberries. Growers seeking more information should email trade@horticulture.com.au', metadata={'dataset_id': 0})"
      ]
     },
     "execution_count": 6,
     "metadata": {},
     "output_type": "execute_result"
    }
   ],
   "source": [
    "RAW_KNOWLEDGE_BASE[0]"
   ]
  },
  {
   "cell_type": "markdown",
   "id": "8d6c588d-6a10-4c47-81d4-6f33a1bd853e",
   "metadata": {},
   "source": [
    "## Splits documents"
   ]
  },
  {
   "cell_type": "code",
   "execution_count": 7,
   "id": "031a666e-d30d-4726-9a32-27b0419c960e",
   "metadata": {},
   "outputs": [],
   "source": [
    "text_splitter = RecursiveCharacterTextSplitter(chunk_size=1000, \n",
    "                                               chunk_overlap=100,\n",
    "                                               add_start_index=True)\n",
    "\n",
    "texts = text_splitter.split_documents(RAW_KNOWLEDGE_BASE)"
   ]
  },
  {
   "cell_type": "code",
   "execution_count": 8,
   "id": "5717e744-0260-487e-aead-82c1d469f65e",
   "metadata": {},
   "outputs": [
    {
     "data": {
      "text/plain": [
       "Document(page_content='Caption: Tasmanian berry grower Nic Hansen showing Macau chef Antimo Merone around his property as part of export engagement activities.\\nTHE RISE and rise of the Australian strawberry, raspberry and blackberry industries has seen the sectors redouble their international trade focus, with the release of a dedicated export plan to grow their global presence over the next 10 years.\\nDriven by significant grower input, the Berry Export Summary 2028 maps the sectors’ current position, where they want to be, high-opportunity markets and next steps.\\nHort Innovation trade manager Jenny Van de Meeberg said the value and volume of raspberry and blackberry exports rose by 100 per cent between 2016 and 2017. She said the Australian strawberry industry experienced similar success with an almost 30 per cent rise in export volume and a 26 per cent rise in value to $32.6M over the same period.', metadata={'dataset_id': 0, 'start_index': 0})"
      ]
     },
     "execution_count": 8,
     "metadata": {},
     "output_type": "execute_result"
    }
   ],
   "source": [
    "texts[0]"
   ]
  },
  {
   "cell_type": "markdown",
   "id": "684b089f-911e-49a4-8962-2bb38a5450a4",
   "metadata": {},
   "source": [
    "## Initialize ChromaDB"
   ]
  },
  {
   "cell_type": "code",
   "execution_count": 9,
   "id": "7dbed435-d0f5-47df-9819-18495977d85b",
   "metadata": {},
   "outputs": [],
   "source": [
    "EMBEDDING_MODEL_NAME = 'intfloat/e5-large'\n",
    "#'sentence-transformers/all-MiniLM-L6-v2'\n",
    "\n",
    "embedding_model = HuggingFaceEmbeddings(\n",
    "    model_name=EMBEDDING_MODEL_NAME,\n",
    "    multi_process=True,\n",
    "    model_kwargs={\"device\": \"cuda\"},\n",
    "    encode_kwargs={\"normalize_embeddings\": True},  # set True for cosine similarity\n",
    ")\n",
    "\n",
    "# create new database\n",
    "KNOWLEDGE_VECTOR_DATABASE = Chroma.from_documents(texts, embedding_model, persist_directory=\"./chroma_db\")  # distance_strategy\n",
    "# load from disk\n",
    "#KNOWLEDGE_VECTOR_DATABASE = Chroma(persist_directory=\"./chroma_db1\", embedding_function=embedding_model)"
   ]
  },
  {
   "cell_type": "code",
   "execution_count": 10,
   "id": "df12ce52-b710-4830-8cf0-2464f76feaae",
   "metadata": {},
   "outputs": [
    {
     "data": {
      "text/plain": [
       "[Document(page_content='Caption: Tasmanian berry grower Nic Hansen showing Macau chef Antimo Merone around his property as part of export engagement activities.\\nTHE RISE and rise of the Australian strawberry, raspberry and blackberry industries has seen the sectors redouble their international trade focus, with the release of a dedicated export plan to grow their global presence over the next 10 years.\\nDriven by significant grower input, the Berry Export Summary 2028 maps the sectors’ current position, where they want to be, high-opportunity markets and next steps.\\nHort Innovation trade manager Jenny Van de Meeberg said the value and volume of raspberry and blackberry exports rose by 100 per cent between 2016 and 2017. She said the Australian strawberry industry experienced similar success with an almost 30 per cent rise in export volume and a 26 per cent rise in value to $32.6M over the same period.', metadata={'dataset_id': 0, 'start_index': 0}),\n",
       " Document(page_content='“Australian berry sectors are in a firm position at the moment,” she said. “Production, adoption of protected substrate cropping, improved genetics and an expanding geographic footprint have all helped put Aussie berries on a positive trajectory.\\n“We are seeing a real transition point. Broad industry interest and a strong commercial appetite for export market development combined with the potential to capitalise on existing trade agreements and build new trade partnerships has created this perfect environment for growth.”\\nHigh-income countries across Europe, North America and Northern Asia have been identified as having a palate for Australian grown berries with more than 4244 tonnes of fresh berries exported in the last financial year alone.', metadata={'dataset_id': 0, 'start_index': 890}),\n",
       " Document(page_content='The strategy identified the best short-term prospect markets for the Australian blackberry and raspberry industry as Hong Kong, Singapore, The United Arab Emirates and Canada. The strongest short-term trade options identified for the strawberry sector were Thailand, Malaysia, New Zealand and Macau.\\nThe strategy focuses heavily on growing the existing strawberry export market from 4 per cent to at least 8 per cent of national production by volume, in markets with a capacity and willingness to pay a premium for quality fruit. For raspberries and blackberries, the sectors aim to achieve a 5 per cent boost in exports assessed by volume across identified markets by 2021.\\nTasmanian raspberry exporter Nic Hansen said Australia offers some of the sweetest and most attractive berries in the world, and this combined with our stringent food safety standards across all stages of the supply chain puts growers in a solid position.', metadata={'dataset_id': 0, 'start_index': 1643}),\n",
       " Document(page_content='“We have a great product, we are hungry to expand trade and now with this new plan in place, we have a clear roadmap towards driving growth,” Mr Hansen said.\\nHe said it is exciting to see new export market prospects for raspberries: “The more options we have for export the better. Now we just have to get on with the job of ensuring industry has all the tools it needs, such as supporting data and relationship building opportunities, to thrive in new markets.”\\nThis project was commissioned by Hort Innovation, and developed by market analysts and research consultants Auspex Strategic Advisory and AgInfinity. Hort Innovation will work now with berry sectors to determine levy-funded activities to support trade.\\nSee a summary of the strategy on the Hort Innovation website.', metadata={'dataset_id': 0, 'start_index': 2574}),\n",
       " Document(page_content='See a summary of the strategy on the Hort Innovation website.\\nFor more information on the berry industries, refer to the Horticulture Statistics Handbook and the Strategic Investment Plans for strawberries, raspberries and blackberries. Growers seeking more information should email trade@horticulture.com.au', metadata={'dataset_id': 0, 'start_index': 3290})]"
      ]
     },
     "execution_count": 10,
     "metadata": {},
     "output_type": "execute_result"
    }
   ],
   "source": [
    "KNOWLEDGE_VECTOR_DATABASE.similarity_search(query='What is the Berry Export Summary 2028 and what is its purpose?', k=5)"
   ]
  },
  {
   "cell_type": "code",
   "execution_count": 11,
   "id": "9808e87b-6952-40e1-9c5c-6f9e1d9dae96",
   "metadata": {},
   "outputs": [],
   "source": [
    "## reranker \n",
    "from ragatouille import RAGPretrainedModel\n",
    "\n",
    "RERANKER = RAGPretrainedModel.from_pretrained(\"colbert-ir/colbertv2.0\")"
   ]
  },
  {
   "cell_type": "code",
   "execution_count": 12,
   "id": "c2d78104-829f-492a-948e-8e9b761230e6",
   "metadata": {},
   "outputs": [],
   "source": [
    "def retriever(\n",
    "    question,\n",
    "    knowledge_index,\n",
    "    num_retrieved_docs = 30,\n",
    "    reranker = None,\n",
    "    num_docs_final = 5\n",
    "):\n",
    "    print(\"=> Retrieving documents...\")\n",
    "    relevant_docs = knowledge_index.similarity_search(query=question, k=num_retrieved_docs)\n",
    "    relevant_docs = [doc.page_content for doc in relevant_docs]  # keep only the text\n",
    "    \n",
    "    # Optionally rerank results\n",
    "    if reranker:\n",
    "        print(\"=> Reranking documents...\")\n",
    "        relevant_docs = reranker.rerank(question, relevant_docs, k=num_docs_final)\n",
    "        relevant_docs = [doc[\"content\"] for doc in relevant_docs]\n",
    "\n",
    "    relevant_docs = relevant_docs[:num_docs_final]\n",
    "    return relevant_docs"
   ]
  },
  {
   "cell_type": "code",
   "execution_count": 13,
   "id": "8cc5a0c5-df13-4710-89c6-4caa9803951a",
   "metadata": {
    "scrolled": true
   },
   "outputs": [
    {
     "name": "stdout",
     "output_type": "stream",
     "text": [
      "=> Retrieving documents...\n",
      "=> Reranking documents...\n"
     ]
    },
    {
     "name": "stderr",
     "output_type": "stream",
     "text": [
      "100%|████████████████████████████████████████████████████████████████████████████████████| 1/1 [00:00<00:00, 15.27it/s]\n"
     ]
    },
    {
     "data": {
      "text/plain": [
       "['Caption: Tasmanian berry grower Nic Hansen showing Macau chef Antimo Merone around his property as part of export engagement activities.\\nTHE RISE and rise of the Australian strawberry, raspberry and blackberry industries has seen the sectors redouble their international trade focus, with the release of a dedicated export plan to grow their global presence over the next 10 years.\\nDriven by significant grower input, the Berry Export Summary 2028 maps the sectors’ current position, where they want to be, high-opportunity markets and next steps.\\nHort Innovation trade manager Jenny Van de Meeberg said the value and volume of raspberry and blackberry exports rose by 100 per cent between 2016 and 2017. She said the Australian strawberry industry experienced similar success with an almost 30 per cent rise in export volume and a 26 per cent rise in value to $32.6M over the same period.',\n",
       " '“We have a great product, we are hungry to expand trade and now with this new plan in place, we have a clear roadmap towards driving growth,” Mr Hansen said.\\nHe said it is exciting to see new export market prospects for raspberries: “The more options we have for export the better. Now we just have to get on with the job of ensuring industry has all the tools it needs, such as supporting data and relationship building opportunities, to thrive in new markets.”\\nThis project was commissioned by Hort Innovation, and developed by market analysts and research consultants Auspex Strategic Advisory and AgInfinity. Hort Innovation will work now with berry sectors to determine levy-funded activities to support trade.\\nSee a summary of the strategy on the Hort Innovation website.',\n",
       " '“Australian berry sectors are in a firm position at the moment,” she said. “Production, adoption of protected substrate cropping, improved genetics and an expanding geographic footprint have all helped put Aussie berries on a positive trajectory.\\n“We are seeing a real transition point. Broad industry interest and a strong commercial appetite for export market development combined with the potential to capitalise on existing trade agreements and build new trade partnerships has created this perfect environment for growth.”\\nHigh-income countries across Europe, North America and Northern Asia have been identified as having a palate for Australian grown berries with more than 4244 tonnes of fresh berries exported in the last financial year alone.',\n",
       " 'The strategy identified the best short-term prospect markets for the Australian blackberry and raspberry industry as Hong Kong, Singapore, The United Arab Emirates and Canada. The strongest short-term trade options identified for the strawberry sector were Thailand, Malaysia, New Zealand and Macau.\\nThe strategy focuses heavily on growing the existing strawberry export market from 4 per cent to at least 8 per cent of national production by volume, in markets with a capacity and willingness to pay a premium for quality fruit. For raspberries and blackberries, the sectors aim to achieve a 5 per cent boost in exports assessed by volume across identified markets by 2021.\\nTasmanian raspberry exporter Nic Hansen said Australia offers some of the sweetest and most attractive berries in the world, and this combined with our stringent food safety standards across all stages of the supply chain puts growers in a solid position.',\n",
       " 'See a summary of the strategy on the Hort Innovation website.\\nFor more information on the berry industries, refer to the Horticulture Statistics Handbook and the Strategic Investment Plans for strawberries, raspberries and blackberries. Growers seeking more information should email trade@horticulture.com.au']"
      ]
     },
     "execution_count": 13,
     "metadata": {},
     "output_type": "execute_result"
    }
   ],
   "source": [
    "context = retriever('What is the Berry Export Summary 2028 and what is its purpose?',\n",
    "          KNOWLEDGE_VECTOR_DATABASE,\n",
    "          reranker=RERANKER)\n",
    "\n",
    "context"
   ]
  },
  {
   "cell_type": "markdown",
   "id": "72ff2cf0-3bbf-41b8-8861-76df3eed6c09",
   "metadata": {},
   "source": [
    "## Initialize LLM"
   ]
  },
  {
   "cell_type": "code",
   "execution_count": 14,
   "id": "0ad824b9-8870-4225-9fb2-d1743f7c5efb",
   "metadata": {},
   "outputs": [],
   "source": [
    "llm = Ollama(model=\"llama2:7b-chat\")"
   ]
  },
  {
   "cell_type": "markdown",
   "id": "898c1b99-2b08-41c5-a282-8b4461a27111",
   "metadata": {},
   "source": [
    "## Create the chain"
   ]
  },
  {
   "cell_type": "code",
   "execution_count": 17,
   "id": "ba5edf49-d7e5-41a2-86b6-8072c9e6cae9",
   "metadata": {},
   "outputs": [],
   "source": [
    "# create chain for documents\n",
    "template = \"\"\"Answer the following question based only on the provided context with maximum of 15 tokens:\n",
    "\n",
    "<context>\n",
    "{context}\n",
    "</context>\n",
    "\n",
    "Question: {input}\n",
    "\"\"\"\n",
    "\n",
    "prompt = ChatPromptTemplate.from_template(template)\n",
    "document_chain = create_stuff_documents_chain(llm, prompt)"
   ]
  },
  {
   "cell_type": "code",
   "execution_count": 18,
   "id": "bd307d74-500c-45c7-b336-87c145ae2040",
   "metadata": {},
   "outputs": [
    {
     "data": {
      "text/plain": [
       "\"The Berry Export Summary 2028 is a dedicated export plan to grow the global presence of Australian strawberry, raspberry, and blackberry industries over the next 10 years. Its purpose is to provide a roadmap for the sectors' international trade focus, identifying high-opportunity markets and outlining levy-funded activities to support trade growth.\""
      ]
     },
     "execution_count": 18,
     "metadata": {},
     "output_type": "execute_result"
    }
   ],
   "source": [
    "from langchain_core.documents import Document\n",
    "document_chain.invoke({\n",
    "    \"input\": 'What is the Berry Export Summary 2028 and what is its purpose?',\n",
    "    \"context\": [Document(page_content=txt) for txt in context]\n",
    "})"
   ]
  },
  {
   "cell_type": "markdown",
   "id": "275cf9f0-98d2-4232-aede-17fbd324ee7e",
   "metadata": {},
   "source": [
    "## All-in-one RAG"
   ]
  },
  {
   "cell_type": "code",
   "execution_count": 18,
   "id": "2de2e680-55ed-4abc-a273-0da5dc86b67a",
   "metadata": {},
   "outputs": [],
   "source": [
    "retriever = KNOWLEDGE_VECTOR_DATABASE.as_retriever()\n",
    "retrieval_chain = create_retrieval_chain(retriever, document_chain)"
   ]
  },
  {
   "cell_type": "code",
   "execution_count": 19,
   "id": "234d3dbf-a1d9-49cc-89b0-6365a862ad77",
   "metadata": {},
   "outputs": [],
   "source": [
    "response = retrieval_chain.invoke({\n",
    "    \"input\": 'What is the Berry Export Summary 2028 and what is its purpose?'\n",
    "})"
   ]
  },
  {
   "cell_type": "code",
   "execution_count": 20,
   "id": "2b019251-e665-43e8-8d7c-fd875c60d8bb",
   "metadata": {},
   "outputs": [
    {
     "data": {
      "text/plain": [
       "\"The Berry Export Summary 2028 is a dedicated export plan that outlines the strategies for growing the Australian strawberry, raspberry, and blackberry industries' global presence over the next 10 years. The purpose of this summary is to map the sectors' current position, identify high-opportunity markets, and outline next steps for the industry to achieve a 5% boost in exports across identified markets by 2021 for raspberries and blackberries, and at least an 8% increase in exports by volume in markets with a capacity and willingness to pay a premium for quality fruit.\""
      ]
     },
     "execution_count": 20,
     "metadata": {},
     "output_type": "execute_result"
    }
   ],
   "source": [
    "response['answer']"
   ]
  },
  {
   "cell_type": "code",
   "execution_count": null,
   "id": "55c63cc0-4fd1-4f63-a18e-20cd3fdad7d0",
   "metadata": {},
   "outputs": [],
   "source": []
  }
 ],
 "metadata": {
  "kernelspec": {
   "display_name": "Python 3 (ipykernel)",
   "language": "python",
   "name": "python3"
  },
  "language_info": {
   "codemirror_mode": {
    "name": "ipython",
    "version": 3
   },
   "file_extension": ".py",
   "mimetype": "text/x-python",
   "name": "python",
   "nbconvert_exporter": "python",
   "pygments_lexer": "ipython3",
   "version": "3.9.18"
  }
 },
 "nbformat": 4,
 "nbformat_minor": 5
}
